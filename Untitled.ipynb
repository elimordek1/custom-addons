{
 "cells": [
  {
   "cell_type": "code",
   "execution_count": 2,
   "id": "2fc818e5-861b-4e3a-b0c1-0e8828ef9606",
   "metadata": {},
   "outputs": [
    {
     "name": "stdout",
     "output_type": "stream",
     "text": [
      "custom_reports/\n",
      "custom_reports/__init__.py\n",
      "custom_reports/__manifest__.py\n",
      "custom_reports/models/\n",
      "custom_reports/models/__init__.py\n",
      "custom_reports/models/report_models.py\n",
      "custom_reports/reports/\n",
      "custom_reports/reports/__init__.py\n",
      "custom_reports/reports/report_actions.xml\n",
      "custom_reports/reports/sale_order_report.xml\n",
      "custom_reports/static/\n",
      "custom_reports/static/src/\n",
      "custom_reports/static/src/img/\n",
      "custom_reports/static/src/img/logoT.jpg\n",
      "fleet_module/\n",
      "fleet_module/__init__.py\n",
      "fleet_module/__manifest__.py\n",
      "fleet_module/models/\n",
      "fleet_module/models/__init__.py\n",
      "fleet_module/models/fleet.py\n",
      "fleet_module/views/\n",
      "fleet_module/views/fleet_service_views.xml\n",
      "fleet_module/views/sale_order_views.xml\n",
      "fleet_module/views/stock_view.xml\n",
      "README.md\n",
      "Untitled.ipynb\n",
      "vg_pod.tar.gz\n"
     ]
    }
   ],
   "source": [
    "!tar chvfz vg_pod.tar.gz *\n",
    "\n"
   ]
  },
  {
   "cell_type": "code",
   "execution_count": null,
   "id": "7f26fc5e-e39b-4518-ac7f-255b7fee84c8",
   "metadata": {},
   "outputs": [],
   "source": []
  },
  {
   "cell_type": "code",
   "execution_count": null,
   "id": "2e39221e-a1fa-4708-86fb-182c7306fbf2",
   "metadata": {},
   "outputs": [],
   "source": []
  }
 ],
 "metadata": {
  "kernelspec": {
   "display_name": "Python 3 (ipykernel)",
   "language": "python",
   "name": "python3"
  },
  "language_info": {
   "codemirror_mode": {
    "name": "ipython",
    "version": 3
   },
   "file_extension": ".py",
   "mimetype": "text/x-python",
   "name": "python",
   "nbconvert_exporter": "python",
   "pygments_lexer": "ipython3",
   "version": "3.12.3"
  }
 },
 "nbformat": 4,
 "nbformat_minor": 5
}
